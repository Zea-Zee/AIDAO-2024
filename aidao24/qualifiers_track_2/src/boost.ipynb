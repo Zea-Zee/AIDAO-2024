{
 "cells": [
  {
   "cell_type": "markdown",
   "id": "10f8abc5",
   "metadata": {},
   "source": [
    "File version: 1.1"
   ]
  },
  {
   "cell_type": "code",
   "execution_count": null,
   "id": "51bf2b13",
   "metadata": {
    "ExecuteTime": {
     "end_time": "2024-10-01T11:09:22.454840Z",
     "start_time": "2024-10-01T11:09:22.453158Z"
    }
   },
   "outputs": [],
   "source": [
    "import sys;\n",
    "\n",
    "print('Python %s on %s' % (sys.version, sys.platform))\n",
    "sys.path.extend(['../'])"
   ]
  },
  {
   "cell_type": "code",
   "execution_count": 2,
   "id": "initial_id",
   "metadata": {
    "ExecuteTime": {
     "end_time": "2024-10-01T11:09:22.682894Z",
     "start_time": "2024-10-01T11:09:22.468565Z"
    },
    "collapsed": true
   },
   "outputs": [],
   "source": [
    "import numpy as np\n",
    "import pandas as pd\n",
    "import matplotlib.pyplot as plt\n",
    "import seaborn as sns\n",
    "\n",
    "from scripts.data_utils import get_connectome\n",
    "\n",
    "from sklearn.model_selection import train_test_split\n",
    "from sklearn.preprocessing import StandardScaler\n",
    "from sklearn.metrics import accuracy_score\n",
    "from imblearn.over_sampling import SMOTE\n",
    "from sklearn.decomposition import PCA\n",
    "\n",
    "from sklearn.model_selection import GridSearchCV\n",
    "from sklearn.ensemble import RandomForestClassifier"
   ]
  },
  {
   "cell_type": "markdown",
   "id": "4c3a492d",
   "metadata": {},
   "source": [
    "Functional Magnetic Resonance Imaging (fMRI) is a neuroimaging technique that enables the study of brain activity by detecting changes associated with blood flow. Unlike conventional MRI, which provides static images of brain structures, fMRI captures dynamic changes related to neural activity. This technique capitalizes on the Blood Oxygen Level-Dependent (BOLD) signal, which varies with the level of blood oxygenation. Active brain regions consume more oxygen, leading to alterations in the magnetic properties of hemoglobin depending on its oxygenation state. fMRI detects these variations, allowing researchers to identify specific brain areas activated in response to various stimuli or tasks. The data generated are three-dimensional images of the brain, where each voxel corresponds to a time series depicting changes in blood oxygen levels over time, effectively producing a four-dimensional dataset."
   ]
  },
  {
   "cell_type": "markdown",
   "id": "27983ed1",
   "metadata": {},
   "source": [
    "fMRI is utilized across diverse disciplines, including medicine, where it assists in neurosurgical planning and the diagnosis of neurological and psychiatric disorders such as epilepsy and schizophrenia. In psychophysiology, fMRI is employed to investigate brain function under normal and pathological conditions, as well as to study cognitive processes like memory, attention, and language.\n",
    "\n",
    "A central objective in fMRI research is the classification of human brain states based on functional activity, as reflected in the BOLD signal. fMRI data are collected during resting states and during engagement in various tasks (e.g., solving cognitive problems), under both normal and pathological conditions, and across different levels of consciousness (e.g., wakefulness, sleep, anesthesia, coma). In clinical settings, accurately classifying pathological brain states is of paramount importance. Employing machine learning techniques to classify brain states presents a promising avenue for research. To effectively apply these methods to complex conditions—such as differentiating between healthy individuals and patients with schizophrenia, or among subtypes of schizophrenia—it is essential to validate their performance on simpler cases. A notable challenge with fMRI data is its high variability, originating from multiple sources, including differences in data acquisition protocols. Consequently, data acquired from different scanners and by different technicians may vary significantly, complicating model generalization across datasets.\n"
   ]
  },
  {
   "cell_type": "markdown",
   "id": "2691bb42",
   "metadata": {},
   "source": [
    "## Task\n",
    "\n",
    "One fundamental state of the human brain is the resting state with either eyes open or eyes closed. It is well-established that these states exhibit differences, particularly affecting the brain's visual cortex and associated structures. Experts can distinguish between these states through visual inspection of fMRI data. The objective of this research is to determine whether machine learning (ML) or deep learning (DL) approaches can accurately differentiate between these states. It is especially important to develop a model that can be trained on one dataset (e.g., publicly available data) and applied to proprietary data (e.g., clinical data from a specific institution).\n",
    "\n",
    "This project proposes the development of an effective methodology for classifying resting states with eyes open and eyes closed using machine learning techniques. Two datasets are provided: data from various research projects at the Institute of the Human Brain of the Russian Academy of Sciences (IHB RAS) and an open dataset from Beijing Normal University. Both datasets consist of fMRI scans under two conditions—eyes closed and eyes open—and are presented as time-series data. \n",
    "\n",
    "Given the high dimensionality of raw fMRI data (e.g., 120 x 142 x 50 voxels in the IHB dataset), dimensionality reduction is commonly performed using brain atlases. These atlases partition the brain into regions corresponding to specific anatomical structures, allowing for the averaging of time series across all voxels within a region.\n"
   ]
  },
  {
   "cell_type": "markdown",
   "id": "09f42ed0",
   "metadata": {},
   "source": [
    "Here we suggest using the atlas [HCPex](https://github.com/waylan/HCPex), which has 426 regions, including 66 subcortical ones. (For our data there were some missing regions, so they were deleted. Resulting time-series has 419 regions)\n",
    "\n",
    "Table with information about the atlas:\n",
    "\n",
    "- **ID**: There are two ID columns in the table. The difference between them is sorting. `HCPex_ID` sorts the rows in the order specified in the HCPex atlas file: firstly, all regions of the left hemisphere (`Primary_Visual_Cortex_L` - L means left hemisphere), then the right. `SORTED_ID` sorts the rows in the order *left region-right region* (`Primary_Visual_Cortex_L`, `Primary_Visual_Cortex_R`,...)\n",
    "- **Label**: the name of the region and the short form of the name\n",
    "- **Cortical division**: which brain structure does the region belong to\n",
    "- **X, Y, Z**: the coordinate of the centroid of the region\n",
    "- **Functional network**: to which functional network regions belong. based on articles by the authors [Cole and Anticevic](https://github.com/ColeLab/ColeAnticevicNetPartition)"
   ]
  },
  {
   "cell_type": "code",
   "execution_count": null,
   "id": "0f8659c9",
   "metadata": {
    "ExecuteTime": {
     "end_time": "2024-10-01T11:09:23.935328Z",
     "start_time": "2024-10-01T11:09:23.830991Z"
    }
   },
   "outputs": [],
   "source": [
    "hcp_table = pd.read_excel('../data/atlas/HCPex_Atlas_Description.xlsx',\n",
    "                          index_col='HCPex_ID').sort_index()\n",
    "hcp_table.head()"
   ]
  },
  {
   "cell_type": "markdown",
   "id": "b50f7858",
   "metadata": {},
   "source": [
    "The predominant approach for training machine learning models on fMRI data involves the use of functional connectivity matrices. These matrices represent the similarity between the time-series data of different brain regions, typically calculated using pairwise Pearson correlation coefficients. The underlying assumption is that co-activated regions will exhibit similar temporal signals. \n",
    "\n",
    "Alternatively, raw time-series data can be utilized directly, or different similarity metrics can be employed to construct functional connectivity matrices.\n"
   ]
  },
  {
   "cell_type": "code",
   "execution_count": null,
   "id": "6d135fda",
   "metadata": {
    "ExecuteTime": {
     "end_time": "2024-10-01T11:09:25.349166Z",
     "start_time": "2024-10-01T11:09:24.495011Z"
    }
   },
   "outputs": [],
   "source": [
    "# load open data from Beijing Normal University\n",
    "X = np.load('../data/ts_cut/HCPex/bnu1.npy')\n",
    "print(X.shape)\n",
    "\n",
    "# function to compute functional connectivity\n",
    "cm = get_connectome(X)\n",
    "\n",
    "plt.figure(figsize=(20, 10))\n",
    "sns.heatmap(cm[0], center=0)\n",
    "plt.title('Connectivity matrix for one person');"
   ]
  },
  {
   "cell_type": "code",
   "execution_count": null,
   "id": "13d86b4d",
   "metadata": {
    "ExecuteTime": {
     "end_time": "2024-10-01T11:09:25.553057Z",
     "start_time": "2024-10-01T11:09:25.351139Z"
    }
   },
   "outputs": [],
   "source": [
    "num_components_to_display = 30\n",
    "tsd = X[0, :, :num_components_to_display]\n",
    "for i in range(num_components_to_display):\n",
    "    xscale = 1 - i / len(tsd) * 2\n",
    "    lw = 1.5 - i / len(tsd) * 2\n",
    "    plt.plot((xscale * np.linspace(-0.5, 0.5, len(tsd)) + 0.5) * len(tsd), i + tsd[:, i], color=\"b\", lw=lw)\n",
    "plt.gca().set_yticks(ticks=np.arange(num_components_to_display),\n",
    "                     labels=hcp_table['Label'][:num_components_to_display].values)\n",
    "plt.title(f'time series for first {num_components_to_display} regions')\n",
    "plt.show()"
   ]
  },
  {
   "cell_type": "markdown",
   "id": "84f4560d",
   "metadata": {},
   "source": [
    "## Data overview:\n",
    "\n",
    "*Training data*\n",
    "\n",
    "Beijing dataset:\n",
    "\n",
    "- 47 participants with eyes open, 95 participants with eyes closed\n",
    "- ``'../data/ts_cut/HCPex/bnu{1,2}.npy'`` and ``'../data/ts_cut/HCPex/bnu.csv'`` both with 142 records\n",
    "\n",
    "IHB dataset:\n",
    "\n",
    "- 10 participants with eyes open, 10 participants with eyes closed\n",
    "- ``'../data/ts_cut/HCPex/ihb.npy'`` and ``'../data/ts_cut/HCPex/ihb.csv'`` both with 20 records\n",
    "\n",
    "*Public Test Data:*\n",
    "\n",
    "- IHB dataset: 20 participants with eyes open, 20 participants with eyes closed\n",
    "\n",
    "*Private Test Data:*\n",
    "\n",
    "IHB dataset: \n",
    "- 117 participants with eyes open, 117 participants with eyes closed\n",
    "\n",
    "File with all $274$ records will accessible at Yandex Contest grading system by path ``'./data/ts_cut/HCPex/predict.npy'`` in the working directory. The file format is the same as training IHB dataset.\n",
    "\n",
    "\n",
    "Note that test dataset contains data from different experiments. Therefore, the performance on private and public sets can be very different. Still the data shows the same thing - difference between opening and closing the eyes. \n",
    "\n",
    "## Objective\n",
    "The task aims to simulate a realistic research workflow:\n",
    "\n",
    "-\tData Collection Constraints: Collecting fMRI data is challenging and costly, resulting in small proprietary datasets.\n",
    "-\tUtilization of Public Datasets: Numerous publicly available datasets can be utilized for pre-training models.\n",
    "-\tDataset Variability: These open datasets inherently differ from proprietary data in aspects such as scanner type, geographic location of data collection, and average age of participants.\n",
    "The primary goal is to develop a model capable of generalizing across multiple datasets from diverse sources. While the difference between eyes open and eyes closed resting states is evident at the individual subject level, it is less pronounced in group analyses. Therefore, the model must be robust enough to detect these subtle differences across heterogeneous datasets.\n",
    "\n",
    "## Performance Metric and Deliverables\n",
    "\n",
    "*Evaluation Metric:* Accuracy score\n",
    "\n",
    "*Required Deliverables:*\n",
    "-\tModel Weights: The trained model's weights for reproducibility and further analysis.\n",
    "-\tExecutable Script: A script containing all necessary code to run the model, including data reading, preprocessing steps, model architecture, inference code.\n"
   ]
  },
  {
   "cell_type": "markdown",
   "id": "e81199dc",
   "metadata": {},
   "source": [
    "## Example"
   ]
  },
  {
   "cell_type": "code",
   "execution_count": null,
   "id": "495d88e1",
   "metadata": {
    "ExecuteTime": {
     "end_time": "2024-10-01T11:09:27.429893Z",
     "start_time": "2024-10-01T11:09:26.292417Z"
    }
   },
   "outputs": [],
   "source": [
    "# load both files with series\n",
    "\n",
    "bnu_series_path = '../data/ts_cut/HCPex/bnu{}.npy'\n",
    "bnu_labels_path = '../data/ts_cut/HCPex/bnu.csv'\n",
    "ihb_series_path = '../data/ts_cut/HCPex/ihb.npy'\n",
    "ihb_labels_path = '../data/ts_cut/HCPex/ihb.csv'\n",
    "\n",
    "X_bnu = np.concatenate([np.load(bnu_series_path.format(i)) for i in (1, 2)], axis=0)\n",
    "print(X_bnu.shape)\n",
    "Y_bnu = pd.read_csv(bnu_labels_path)\n",
    "print(Y_bnu.shape)\n",
    "X_ihb = np.load(ihb_series_path)\n",
    "print(X_ihb.shape)\n",
    "Y_ihb = pd.read_csv(ihb_labels_path)\n",
    "print(Y_ihb.shape)\n",
    "\n",
    "# time series have different length\n",
    "# by the way ``get_connectome`` reduces them to matrices 419x419\n",
    "\n",
    "X_bnu = get_connectome(X_bnu)\n",
    "X_ihb = get_connectome(X_ihb)\n",
    "\n",
    "# concat the train data\n",
    "X = np.concatenate([X_bnu, X_ihb])\n",
    "Y = np.concatenate([Y_bnu, Y_ihb])\n",
    "\n",
    "X.shape, Y.shape"
   ]
  },
  {
   "cell_type": "markdown",
   "id": "925d4633",
   "metadata": {},
   "source": [
    "Here is a logistic regression, which takes functional connectivity matrices in form of vectors, which are transformed using PCA"
   ]
  },
  {
   "cell_type": "code",
   "execution_count": null,
   "id": "1d35a1cf",
   "metadata": {},
   "outputs": [],
   "source": [
    "from sklearn.decomposition import PCA\n",
    "\n",
    "\n",
    "n_samples = X.shape[0]\n",
    "X_reshaped = X.reshape(n_samples, -1)\n",
    "pca = PCA(n_components=0.9)\n",
    "X_pca = pca.fit_transform(X_reshaped)\n",
    "print(f\"X shape: {X_reshaped.shape}\")\n",
    "print(f\"X pca shape: {X_pca.shape}\")"
   ]
  },
  {
   "cell_type": "code",
   "execution_count": 8,
   "id": "9497f443",
   "metadata": {
    "ExecuteTime": {
     "end_time": "2024-10-01T11:09:35.297885Z",
     "start_time": "2024-10-01T11:09:27.431025Z"
    }
   },
   "outputs": [],
   "source": [
    "\n",
    "# from sklearn.ensemble import RandomForestClassifier, GradientBoostingClassifier\n",
    "# model = RandomForestClassifier(random_state=42)\n",
    "\n",
    "\n",
    "# model = GradientBoostingClassifier()\n",
    "# param_grid = {\n",
    "#     'learning_rate': [0.001, 0.01, 0.1, 0.05, 0.2, 0.3],\n",
    "#     'n_estimators': [25, 50, 75, 100, 125, 150, 200]\n",
    "# }\n",
    "\n",
    "# grid_search = GridSearchCV(model, param_grid, cv=5, scoring='accuracy', n_jobs=-1)\n",
    "# grid_search.fit(X_pca, Y.ravel())\n",
    "\n",
    "# print(f\"Best parameters: {grid_search.best_params_}\")\n",
    "# print(f\"Best cross-validated F1 score: {grid_search.best_score_:.4f}\")"
   ]
  },
  {
   "cell_type": "code",
   "execution_count": null,
   "id": "a13b5be4",
   "metadata": {
    "ExecuteTime": {
     "end_time": "2024-10-01T11:09:35.549844Z",
     "start_time": "2024-10-01T11:09:35.338625Z"
    }
   },
   "outputs": [],
   "source": [
    "from sklearn.metrics import accuracy_score\n",
    "from sklearn.ensemble import RandomForestClassifier, GradientBoostingClassifier\n",
    "\n",
    "\n",
    "model = GradientBoostingClassifier(n_estimators=125, learning_rate=0.1)\n",
    "\n",
    "\n",
    "model.fit(X_pca, Y.ravel())\n",
    "y_pred = model.predict(X_pca)\n",
    "\n",
    "accuracy = accuracy_score(Y, y_pred)\n",
    "print(f'Accuracy: {accuracy:.2f}')\n"
   ]
  },
  {
   "cell_type": "code",
   "execution_count": 10,
   "id": "d04cacf4",
   "metadata": {
    "ExecuteTime": {
     "end_time": "2024-10-01T11:09:35.914908Z",
     "start_time": "2024-10-01T11:09:35.550483Z"
    }
   },
   "outputs": [],
   "source": [
    "import pickle\n",
    "\n",
    "\n",
    "with open('model.pkl', 'wb') as file:\n",
    "    pickle.dump({'pca': pca, 'model': model}, file)"
   ]
  },
  {
   "cell_type": "code",
   "execution_count": 11,
   "id": "df221885",
   "metadata": {
    "ExecuteTime": {
     "end_time": "2024-10-01T11:09:36.047951Z",
     "start_time": "2024-10-01T11:09:35.916179Z"
    }
   },
   "outputs": [],
   "source": [
    "# create local environment same as Yandex Contest\n",
    "import os\n",
    "import shutil\n",
    "\n",
    "if not os.path.exists('./data/ts_cut/HCPex/'):\n",
    "    os.makedirs('./data/ts_cut/HCPex/')\n",
    "\n",
    "np.save('./data/ts_cut/HCPex/predict.npy', np.concatenate([np.load(bnu_series_path.format(i)) for i in (1, 2)], axis=0))\n"
   ]
  },
  {
   "cell_type": "code",
   "execution_count": 14,
   "id": "211e310b",
   "metadata": {
    "ExecuteTime": {
     "end_time": "2024-10-01T11:09:37.171627Z",
     "start_time": "2024-10-01T11:09:36.048513Z"
    }
   },
   "outputs": [
    {
     "name": "stdout",
     "output_type": "stream",
     "text": [
      "(142, 240, 419)\n"
     ]
    }
   ],
   "source": [
    "import numpy as np\n",
    "import pandas as pd\n",
    "import pickle\n",
    "\n",
    "from scripts.data_utils import get_connectome\n",
    "\n",
    "X = np.load('./data/ts_cut/HCPex/predict.npy')\n",
    "print(X.shape)\n",
    "X = get_connectome(X)\n",
    "\n",
    "with open('model.pkl', 'rb') as file:\n",
    "    saved_objects = pickle.load(file)\n",
    "\n",
    "pca = saved_objects['pca']\n",
    "model = saved_objects['model']\n",
    "\n",
    "# Применяем сохранённый PCA для трансформации данных\n",
    "n_samples = X.shape[0]\n",
    "X_reshaped = X.reshape(n_samples, -1)\n",
    "X_pca = pca.transform(X_reshaped)\n",
    "\n",
    "# Предсказываем\n",
    "y_pred = model.predict(X_pca)\n",
    "\n",
    "# Сохраняем предсказания в CSV\n",
    "solution = pd.DataFrame(data=y_pred, columns=['prediction'])\n",
    "solution.to_csv('./solution.csv', index=False)"
   ]
  },
  {
   "cell_type": "code",
   "execution_count": 13,
   "id": "bf7aa8c9",
   "metadata": {
    "ExecuteTime": {
     "end_time": "2024-10-01T11:09:41.249811Z",
     "start_time": "2024-10-01T11:09:37.172325Z"
    }
   },
   "outputs": [],
   "source": [
    "# build the .zip to submit\n",
    "import zipfile\n",
    "import datetime\n",
    "\n",
    "# save source from previous cell into file\n",
    "# will produce the correct result only in case of running previous cell just before\n",
    "with open('run.py', 'w') as f_run:\n",
    "    f_run.write(_ih[-2])\n",
    "\n",
    "with open('run.sh', 'w') as f_run_sh:\n",
    "    f_run_sh.write('export PATH=/usr/conda/bin:$PATH\\npython run.py')\n",
    "\n",
    "with open('train.py', 'w') as f_run:\n",
    "    f_run.write('print(\"\\\\n\".join(map(str, range(100))))')\n",
    "\n",
    "with open('train.sh', 'w') as f_run_sh:\n",
    "    f_run_sh.write('export PATH=/usr/conda/bin:$PATH\\npython train.py')\n",
    "\n",
    "with open('Makefile', 'w') as f_makefile:\n",
    "    f_makefile.write('''all: build\n",
    "\n",
    "build:\n",
    "\t@echo 'starting....'\n",
    "\tbash train.sh\n",
    "run:\n",
    "\tbash run.sh\n",
    "train:\n",
    "\tbash train.sh\n",
    "''')\n",
    "\n",
    "submission_zip = zipfile.ZipFile(f\"submission-{datetime.datetime.now()}.zip\".replace(':', '-').replace(' ', '-'), \"w\")\n",
    "submission_zip.write('./Makefile', compress_type=zipfile.ZIP_DEFLATED)\n",
    "submission_zip.write('run.py', compress_type=zipfile.ZIP_DEFLATED)\n",
    "submission_zip.write('run.sh', compress_type=zipfile.ZIP_DEFLATED)\n",
    "submission_zip.write('train.py', compress_type=zipfile.ZIP_DEFLATED)\n",
    "submission_zip.write('train.sh', compress_type=zipfile.ZIP_DEFLATED)\n",
    "submission_zip.write('model.pkl', compress_type=zipfile.ZIP_DEFLATED)\n",
    "submission_zip.write('scripts', compress_type=zipfile.ZIP_DEFLATED)\n",
    "submission_zip.write('scripts/__init__.py', compress_type=zipfile.ZIP_DEFLATED)\n",
    "submission_zip.write('scripts/classification_models.py', compress_type=zipfile.ZIP_DEFLATED)\n",
    "submission_zip.write('scripts/data_utils.py', compress_type=zipfile.ZIP_DEFLATED)\n",
    "\n",
    "submission_zip.close()\n"
   ]
  }
 ],
 "metadata": {
  "kernelspec": {
   "display_name": ".venv",
   "language": "python",
   "name": "python3"
  },
  "language_info": {
   "codemirror_mode": {
    "name": "ipython",
    "version": 3
   },
   "file_extension": ".py",
   "mimetype": "text/x-python",
   "name": "python",
   "nbconvert_exporter": "python",
   "pygments_lexer": "ipython3",
   "version": "3.12.3"
  }
 },
 "nbformat": 4,
 "nbformat_minor": 5
}
